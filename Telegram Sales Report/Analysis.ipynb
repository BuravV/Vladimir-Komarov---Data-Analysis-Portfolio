{
 "cells": [
  {
   "cell_type": "code",
   "execution_count": 53,
   "metadata": {},
   "outputs": [],
   "source": [
    "import numpy as np\n",
    "import pandas as pd\n",
    "import datetime as dt\n",
    "import os\n",
    "\n",
    "import seaborn as sns\n",
    "import matplotlib.pyplot as plt\n",
    "\n",
    "from Graphs import graph_metric1,graph_metric2,graph_metric3"
   ]
  },
  {
   "cell_type": "code",
   "execution_count": 54,
   "metadata": {},
   "outputs": [],
   "source": [
    "#importing data \n",
    "\n",
    "events_dict = pd.read_csv('Data input/events_dict.csv', index_col=0)\n",
    "events_new = pd.read_csv('Data input/events_new.csv', index_col=0)\n",
    "payments = pd.read_csv('Data input/Payments.csv', index_col=0)"
   ]
  },
  {
   "cell_type": "markdown",
   "metadata": {},
   "source": [
    "## Data Cleaning + EDA -----------------"
   ]
  },
  {
   "cell_type": "code",
   "execution_count": 23,
   "metadata": {},
   "outputs": [
    {
     "data": {
      "text/html": [
       "<div>\n",
       "<style scoped>\n",
       "    .dataframe tbody tr th:only-of-type {\n",
       "        vertical-align: middle;\n",
       "    }\n",
       "\n",
       "    .dataframe tbody tr th {\n",
       "        vertical-align: top;\n",
       "    }\n",
       "\n",
       "    .dataframe thead th {\n",
       "        text-align: right;\n",
       "    }\n",
       "</style>\n",
       "<table border=\"1\" class=\"dataframe\">\n",
       "  <thead>\n",
       "    <tr style=\"text-align: right;\">\n",
       "      <th></th>\n",
       "      <th>index</th>\n",
       "      <th>name</th>\n",
       "      <th>event_id</th>\n",
       "      <th>description</th>\n",
       "    </tr>\n",
       "  </thead>\n",
       "  <tbody>\n",
       "    <tr>\n",
       "      <th>0</th>\n",
       "      <td>0</td>\n",
       "      <td>student_created_order</td>\n",
       "      <td>3</td>\n",
       "      <td>Creating an application</td>\n",
       "    </tr>\n",
       "    <tr>\n",
       "      <th>1</th>\n",
       "      <td>497</td>\n",
       "      <td>student_booked_introlesson</td>\n",
       "      <td>2</td>\n",
       "      <td>Assigning an IL</td>\n",
       "    </tr>\n",
       "    <tr>\n",
       "      <th>2</th>\n",
       "      <td>934</td>\n",
       "      <td>student_pass_introlesson_succesfully</td>\n",
       "      <td>7</td>\n",
       "      <td>Successful IL</td>\n",
       "    </tr>\n",
       "    <tr>\n",
       "      <th>3</th>\n",
       "      <td>956</td>\n",
       "      <td>firstline_operator_assigned_at_task</td>\n",
       "      <td>8</td>\n",
       "      <td>Assigned task to call 1L</td>\n",
       "    </tr>\n",
       "    <tr>\n",
       "      <th>4</th>\n",
       "      <td>1007</td>\n",
       "      <td>secondline_operator_assigned_at_task</td>\n",
       "      <td>12</td>\n",
       "      <td>Assigned task to call 2L</td>\n",
       "    </tr>\n",
       "    <tr>\n",
       "      <th>5</th>\n",
       "      <td>1227</td>\n",
       "      <td>student_answered_firstline_operator</td>\n",
       "      <td>4</td>\n",
       "      <td>S. answered 1L operator call</td>\n",
       "    </tr>\n",
       "    <tr>\n",
       "      <th>6</th>\n",
       "      <td>1619</td>\n",
       "      <td>methodist_joined_introlesson</td>\n",
       "      <td>6</td>\n",
       "      <td>DL to IL</td>\n",
       "    </tr>\n",
       "    <tr>\n",
       "      <th>7</th>\n",
       "      <td>1715</td>\n",
       "      <td>student_passed_demolesson</td>\n",
       "      <td>11</td>\n",
       "      <td>DL completed</td>\n",
       "    </tr>\n",
       "    <tr>\n",
       "      <th>8</th>\n",
       "      <td>1801</td>\n",
       "      <td>student_answered_secondline_operator</td>\n",
       "      <td>9</td>\n",
       "      <td>Call 2L</td>\n",
       "    </tr>\n",
       "    <tr>\n",
       "      <th>9</th>\n",
       "      <td>2014</td>\n",
       "      <td>student_joined_demolesson</td>\n",
       "      <td>10</td>\n",
       "      <td>Transfer to DL (DL started)</td>\n",
       "    </tr>\n",
       "    <tr>\n",
       "      <th>10</th>\n",
       "      <td>2239</td>\n",
       "      <td>firstline_operator_send_wa_message</td>\n",
       "      <td>5</td>\n",
       "      <td>WA message sent</td>\n",
       "    </tr>\n",
       "    <tr>\n",
       "      <th>11</th>\n",
       "      <td>13327</td>\n",
       "      <td>student_answered_wa_message</td>\n",
       "      <td>13</td>\n",
       "      <td>S. responded to WA message</td>\n",
       "    </tr>\n",
       "  </tbody>\n",
       "</table>\n",
       "</div>"
      ],
      "text/plain": [
       "    index                                  name  event_id  \\\n",
       "0       0                 student_created_order         3   \n",
       "1     497            student_booked_introlesson         2   \n",
       "2     934  student_pass_introlesson_succesfully         7   \n",
       "3     956   firstline_operator_assigned_at_task         8   \n",
       "4    1007  secondline_operator_assigned_at_task        12   \n",
       "5    1227   student_answered_firstline_operator         4   \n",
       "6    1619          methodist_joined_introlesson         6   \n",
       "7    1715             student_passed_demolesson        11   \n",
       "8    1801  student_answered_secondline_operator         9   \n",
       "9    2014             student_joined_demolesson        10   \n",
       "10   2239    firstline_operator_send_wa_message         5   \n",
       "11  13327           student_answered_wa_message        13   \n",
       "\n",
       "                     description  \n",
       "0        Creating an application  \n",
       "1                Assigning an IL  \n",
       "2                  Successful IL  \n",
       "3       Assigned task to call 1L  \n",
       "4       Assigned task to call 2L  \n",
       "5   S. answered 1L operator call  \n",
       "6                       DL to IL  \n",
       "7                   DL completed  \n",
       "8                        Call 2L  \n",
       "9    Transfer to DL (DL started)  \n",
       "10               WA message sent  \n",
       "11    S. responded to WA message  "
      ]
     },
     "execution_count": 23,
     "metadata": {},
     "output_type": "execute_result"
    }
   ],
   "source": [
    "#chaning the name of id column to match it with events df \n",
    "\n",
    "events_dict.rename(columns={'id':'event_id'}, inplace=True)\n",
    "events_dict\n",
    "\n",
    "#IL - introductory lesson\n",
    "#DL - demonstration lesson\n",
    "#1L - first line\n",
    "#2L - second line\n",
    "#WA - whatsapp message \n",
    "#S. - student "
   ]
  },
  {
   "cell_type": "code",
   "execution_count": 55,
   "metadata": {},
   "outputs": [
    {
     "data": {
      "text/html": [
       "<div>\n",
       "<style scoped>\n",
       "    .dataframe tbody tr th:only-of-type {\n",
       "        vertical-align: middle;\n",
       "    }\n",
       "\n",
       "    .dataframe tbody tr th {\n",
       "        vertical-align: top;\n",
       "    }\n",
       "\n",
       "    .dataframe thead th {\n",
       "        text-align: right;\n",
       "    }\n",
       "</style>\n",
       "<table border=\"1\" class=\"dataframe\">\n",
       "  <thead>\n",
       "    <tr style=\"text-align: right;\">\n",
       "      <th></th>\n",
       "      <th>event_id</th>\n",
       "      <th>user_id</th>\n",
       "      <th>happened_at</th>\n",
       "      <th>happened_date</th>\n",
       "    </tr>\n",
       "  </thead>\n",
       "  <tbody>\n",
       "    <tr>\n",
       "      <th>0</th>\n",
       "      <td>3</td>\n",
       "      <td>12367366</td>\n",
       "      <td>2021-06-01 17:30:28</td>\n",
       "      <td>2021-06-01</td>\n",
       "    </tr>\n",
       "    <tr>\n",
       "      <th>1</th>\n",
       "      <td>3</td>\n",
       "      <td>12467855</td>\n",
       "      <td>2021-06-16 14:05:31</td>\n",
       "      <td>2021-06-16</td>\n",
       "    </tr>\n",
       "    <tr>\n",
       "      <th>2</th>\n",
       "      <td>3</td>\n",
       "      <td>12382388</td>\n",
       "      <td>2021-06-03 17:02:48</td>\n",
       "      <td>2021-06-03</td>\n",
       "    </tr>\n",
       "    <tr>\n",
       "      <th>3</th>\n",
       "      <td>3</td>\n",
       "      <td>12450855</td>\n",
       "      <td>2021-06-14 07:52:48</td>\n",
       "      <td>2021-06-14</td>\n",
       "    </tr>\n",
       "    <tr>\n",
       "      <th>4</th>\n",
       "      <td>3</td>\n",
       "      <td>12451213</td>\n",
       "      <td>2021-06-14 09:29:38</td>\n",
       "      <td>2021-06-14</td>\n",
       "    </tr>\n",
       "    <tr>\n",
       "      <th>...</th>\n",
       "      <td>...</td>\n",
       "      <td>...</td>\n",
       "      <td>...</td>\n",
       "      <td>...</td>\n",
       "    </tr>\n",
       "    <tr>\n",
       "      <th>361683</th>\n",
       "      <td>12</td>\n",
       "      <td>12444620</td>\n",
       "      <td>2022-01-02 18:48:04</td>\n",
       "      <td>2022-01-02</td>\n",
       "    </tr>\n",
       "    <tr>\n",
       "      <th>361684</th>\n",
       "      <td>12</td>\n",
       "      <td>12446919</td>\n",
       "      <td>2021-06-13 19:23:49</td>\n",
       "      <td>2021-06-13</td>\n",
       "    </tr>\n",
       "    <tr>\n",
       "      <th>361685</th>\n",
       "      <td>12</td>\n",
       "      <td>12447020</td>\n",
       "      <td>2021-06-29 15:49:06</td>\n",
       "      <td>2021-06-29</td>\n",
       "    </tr>\n",
       "    <tr>\n",
       "      <th>361686</th>\n",
       "      <td>12</td>\n",
       "      <td>12447020</td>\n",
       "      <td>2021-06-13 18:39:58</td>\n",
       "      <td>2021-06-13</td>\n",
       "    </tr>\n",
       "    <tr>\n",
       "      <th>361687</th>\n",
       "      <td>4</td>\n",
       "      <td>12475876</td>\n",
       "      <td>2021-06-17 15:44:27</td>\n",
       "      <td>2021-06-17</td>\n",
       "    </tr>\n",
       "  </tbody>\n",
       "</table>\n",
       "<p>361688 rows × 4 columns</p>\n",
       "</div>"
      ],
      "text/plain": [
       "        event_id   user_id         happened_at happened_date\n",
       "0              3  12367366 2021-06-01 17:30:28    2021-06-01\n",
       "1              3  12467855 2021-06-16 14:05:31    2021-06-16\n",
       "2              3  12382388 2021-06-03 17:02:48    2021-06-03\n",
       "3              3  12450855 2021-06-14 07:52:48    2021-06-14\n",
       "4              3  12451213 2021-06-14 09:29:38    2021-06-14\n",
       "...          ...       ...                 ...           ...\n",
       "361683        12  12444620 2022-01-02 18:48:04    2022-01-02\n",
       "361684        12  12446919 2021-06-13 19:23:49    2021-06-13\n",
       "361685        12  12447020 2021-06-29 15:49:06    2021-06-29\n",
       "361686        12  12447020 2021-06-13 18:39:58    2021-06-13\n",
       "361687         4  12475876 2021-06-17 15:44:27    2021-06-17\n",
       "\n",
       "[361688 rows x 4 columns]"
      ]
     },
     "execution_count": 55,
     "metadata": {},
     "output_type": "execute_result"
    }
   ],
   "source": [
    "#changing date column type \n",
    "events_new['happened_at'] = pd.to_datetime(events_new['happened_at'])\n",
    "#extracting only date(without time)\n",
    "events_new['happened_date'] = events_new['happened_at'].apply(lambda x: x.date())\n",
    "\n",
    "events_new"
   ]
  },
  {
   "cell_type": "code",
   "execution_count": 56,
   "metadata": {},
   "outputs": [
    {
     "data": {
      "text/html": [
       "<div>\n",
       "<style scoped>\n",
       "    .dataframe tbody tr th:only-of-type {\n",
       "        vertical-align: middle;\n",
       "    }\n",
       "\n",
       "    .dataframe tbody tr th {\n",
       "        vertical-align: top;\n",
       "    }\n",
       "\n",
       "    .dataframe thead th {\n",
       "        text-align: right;\n",
       "    }\n",
       "</style>\n",
       "<table border=\"1\" class=\"dataframe\">\n",
       "  <thead>\n",
       "    <tr style=\"text-align: right;\">\n",
       "      <th></th>\n",
       "      <th>transaction_id</th>\n",
       "      <th>transaction_created_at</th>\n",
       "      <th>user_id</th>\n",
       "      <th>currency</th>\n",
       "      <th>amount</th>\n",
       "      <th>is_gift</th>\n",
       "      <th>transaction_date</th>\n",
       "    </tr>\n",
       "  </thead>\n",
       "  <tbody>\n",
       "    <tr>\n",
       "      <th>0</th>\n",
       "      <td>3807046</td>\n",
       "      <td>2021-05-16 03:41:25</td>\n",
       "      <td>12242732</td>\n",
       "      <td>RUB</td>\n",
       "      <td>390.0</td>\n",
       "      <td>False</td>\n",
       "      <td>2021-05-16</td>\n",
       "    </tr>\n",
       "    <tr>\n",
       "      <th>1</th>\n",
       "      <td>3807613</td>\n",
       "      <td>2021-05-16 11:06:23</td>\n",
       "      <td>12241834</td>\n",
       "      <td>RUB</td>\n",
       "      <td>7980.0</td>\n",
       "      <td>False</td>\n",
       "      <td>2021-05-16</td>\n",
       "    </tr>\n",
       "    <tr>\n",
       "      <th>2</th>\n",
       "      <td>3807673</td>\n",
       "      <td>2021-05-16 11:33:06</td>\n",
       "      <td>12241501</td>\n",
       "      <td>RUB</td>\n",
       "      <td>24880.0</td>\n",
       "      <td>False</td>\n",
       "      <td>2021-05-16</td>\n",
       "    </tr>\n",
       "    <tr>\n",
       "      <th>3</th>\n",
       "      <td>3810405</td>\n",
       "      <td>2021-05-17 09:45:40</td>\n",
       "      <td>12242141</td>\n",
       "      <td>RUB</td>\n",
       "      <td>8520.0</td>\n",
       "      <td>False</td>\n",
       "      <td>2021-05-17</td>\n",
       "    </tr>\n",
       "    <tr>\n",
       "      <th>4</th>\n",
       "      <td>3811432</td>\n",
       "      <td>2021-05-17 13:35:35</td>\n",
       "      <td>12251367</td>\n",
       "      <td>RUB</td>\n",
       "      <td>14360.0</td>\n",
       "      <td>False</td>\n",
       "      <td>2021-05-17</td>\n",
       "    </tr>\n",
       "    <tr>\n",
       "      <th>...</th>\n",
       "      <td>...</td>\n",
       "      <td>...</td>\n",
       "      <td>...</td>\n",
       "      <td>...</td>\n",
       "      <td>...</td>\n",
       "      <td>...</td>\n",
       "      <td>...</td>\n",
       "    </tr>\n",
       "    <tr>\n",
       "      <th>69798</th>\n",
       "      <td>5149192</td>\n",
       "      <td>2022-03-07 13:39:19</td>\n",
       "      <td>12277154</td>\n",
       "      <td>RUB</td>\n",
       "      <td>8994.0</td>\n",
       "      <td>False</td>\n",
       "      <td>2022-03-07</td>\n",
       "    </tr>\n",
       "    <tr>\n",
       "      <th>69799</th>\n",
       "      <td>5189623</td>\n",
       "      <td>2022-03-13 10:40:42</td>\n",
       "      <td>12321417</td>\n",
       "      <td>RUB</td>\n",
       "      <td>8240.0</td>\n",
       "      <td>False</td>\n",
       "      <td>2022-03-13</td>\n",
       "    </tr>\n",
       "    <tr>\n",
       "      <th>69800</th>\n",
       "      <td>5190224</td>\n",
       "      <td>2022-03-13 12:02:43</td>\n",
       "      <td>12390963</td>\n",
       "      <td>RUB</td>\n",
       "      <td>3560.0</td>\n",
       "      <td>False</td>\n",
       "      <td>2022-03-13</td>\n",
       "    </tr>\n",
       "    <tr>\n",
       "      <th>69801</th>\n",
       "      <td>5190985</td>\n",
       "      <td>2022-03-13 13:26:52</td>\n",
       "      <td>12420449</td>\n",
       "      <td>RUB</td>\n",
       "      <td>390.0</td>\n",
       "      <td>False</td>\n",
       "      <td>2022-03-13</td>\n",
       "    </tr>\n",
       "    <tr>\n",
       "      <th>69802</th>\n",
       "      <td>5205672</td>\n",
       "      <td>2022-03-15 11:43:41</td>\n",
       "      <td>12375528</td>\n",
       "      <td>RUB</td>\n",
       "      <td>11040.0</td>\n",
       "      <td>False</td>\n",
       "      <td>2022-03-15</td>\n",
       "    </tr>\n",
       "  </tbody>\n",
       "</table>\n",
       "<p>69803 rows × 7 columns</p>\n",
       "</div>"
      ],
      "text/plain": [
       "       transaction_id transaction_created_at   user_id currency   amount  \\\n",
       "0             3807046    2021-05-16 03:41:25  12242732      RUB    390.0   \n",
       "1             3807613    2021-05-16 11:06:23  12241834      RUB   7980.0   \n",
       "2             3807673    2021-05-16 11:33:06  12241501      RUB  24880.0   \n",
       "3             3810405    2021-05-17 09:45:40  12242141      RUB   8520.0   \n",
       "4             3811432    2021-05-17 13:35:35  12251367      RUB  14360.0   \n",
       "...               ...                    ...       ...      ...      ...   \n",
       "69798         5149192    2022-03-07 13:39:19  12277154      RUB   8994.0   \n",
       "69799         5189623    2022-03-13 10:40:42  12321417      RUB   8240.0   \n",
       "69800         5190224    2022-03-13 12:02:43  12390963      RUB   3560.0   \n",
       "69801         5190985    2022-03-13 13:26:52  12420449      RUB    390.0   \n",
       "69802         5205672    2022-03-15 11:43:41  12375528      RUB  11040.0   \n",
       "\n",
       "       is_gift transaction_date  \n",
       "0        False       2021-05-16  \n",
       "1        False       2021-05-16  \n",
       "2        False       2021-05-16  \n",
       "3        False       2021-05-17  \n",
       "4        False       2021-05-17  \n",
       "...        ...              ...  \n",
       "69798    False       2022-03-07  \n",
       "69799    False       2022-03-13  \n",
       "69800    False       2022-03-13  \n",
       "69801    False       2022-03-13  \n",
       "69802    False       2022-03-15  \n",
       "\n",
       "[69803 rows x 7 columns]"
      ]
     },
     "execution_count": 56,
     "metadata": {},
     "output_type": "execute_result"
    }
   ],
   "source": [
    "#changing date column type \n",
    "payments['transaction_created_at'] = pd.to_datetime(payments['transaction_created_at'])\n",
    "#extracting only date(without time)\n",
    "payments['transaction_date'] = payments['transaction_created_at'].apply(lambda x: x.date())\n",
    "payments"
   ]
  },
  {
   "cell_type": "markdown",
   "metadata": {},
   "source": [
    "Missing values and duplicates :"
   ]
  },
  {
   "cell_type": "code",
   "execution_count": 26,
   "metadata": {},
   "outputs": [
    {
     "data": {
      "text/plain": [
       "event_id         0\n",
       "user_id          0\n",
       "happened_at      0\n",
       "happened_date    0\n",
       "dtype: int64"
      ]
     },
     "execution_count": 26,
     "metadata": {},
     "output_type": "execute_result"
    }
   ],
   "source": [
    "events_new.isnull().sum()"
   ]
  },
  {
   "cell_type": "code",
   "execution_count": 27,
   "metadata": {},
   "outputs": [
    {
     "data": {
      "text/plain": [
       "transaction_id            0\n",
       "transaction_created_at    0\n",
       "user_id                   0\n",
       "currency                  0\n",
       "amount                    0\n",
       "is_gift                   0\n",
       "transaction_date          0\n",
       "dtype: int64"
      ]
     },
     "execution_count": 27,
     "metadata": {},
     "output_type": "execute_result"
    }
   ],
   "source": [
    "payments.isnull().sum()"
   ]
  },
  {
   "cell_type": "code",
   "execution_count": 28,
   "metadata": {},
   "outputs": [
    {
     "name": "stdout",
     "output_type": "stream",
     "text": [
      "Number of records: 361688\n",
      "Number of duplicates: 4003\n"
     ]
    }
   ],
   "source": [
    "#checking for duplicates in events \n",
    "\n",
    "dupl_cols = ['event_id', 'user_id', 'happened_at']\n",
    "\n",
    "mask = events_new.duplicated(subset=dupl_cols)\n",
    "\n",
    "event_duplt = events_new[mask]\n",
    "\n",
    "print(f'Number of records: {events_new.shape[0]}')\n",
    "\n",
    "print(f'Number of duplicates: {event_duplt.shape[0]}')\n"
   ]
  },
  {
   "cell_type": "code",
   "execution_count": 29,
   "metadata": {},
   "outputs": [
    {
     "data": {
      "text/html": [
       "<div>\n",
       "<style scoped>\n",
       "    .dataframe tbody tr th:only-of-type {\n",
       "        vertical-align: middle;\n",
       "    }\n",
       "\n",
       "    .dataframe tbody tr th {\n",
       "        vertical-align: top;\n",
       "    }\n",
       "\n",
       "    .dataframe thead th {\n",
       "        text-align: right;\n",
       "    }\n",
       "</style>\n",
       "<table border=\"1\" class=\"dataframe\">\n",
       "  <thead>\n",
       "    <tr style=\"text-align: right;\">\n",
       "      <th></th>\n",
       "      <th>event_id</th>\n",
       "      <th>user_id</th>\n",
       "      <th>happened_at</th>\n",
       "      <th>happened_date</th>\n",
       "    </tr>\n",
       "  </thead>\n",
       "  <tbody>\n",
       "    <tr>\n",
       "      <th>1119</th>\n",
       "      <td>4</td>\n",
       "      <td>12251151</td>\n",
       "      <td>2021-06-08 14:59:44</td>\n",
       "      <td>2021-06-08</td>\n",
       "    </tr>\n",
       "    <tr>\n",
       "      <th>1642</th>\n",
       "      <td>4</td>\n",
       "      <td>12391289</td>\n",
       "      <td>2021-06-04 22:12:47</td>\n",
       "      <td>2021-06-04</td>\n",
       "    </tr>\n",
       "    <tr>\n",
       "      <th>1675</th>\n",
       "      <td>4</td>\n",
       "      <td>12272783</td>\n",
       "      <td>2021-07-08 21:02:59</td>\n",
       "      <td>2021-07-08</td>\n",
       "    </tr>\n",
       "    <tr>\n",
       "      <th>1679</th>\n",
       "      <td>4</td>\n",
       "      <td>12275418</td>\n",
       "      <td>2022-03-02 13:52:40</td>\n",
       "      <td>2022-03-02</td>\n",
       "    </tr>\n",
       "    <tr>\n",
       "      <th>1680</th>\n",
       "      <td>4</td>\n",
       "      <td>12275418</td>\n",
       "      <td>2022-03-02 13:52:40</td>\n",
       "      <td>2022-03-02</td>\n",
       "    </tr>\n",
       "    <tr>\n",
       "      <th>...</th>\n",
       "      <td>...</td>\n",
       "      <td>...</td>\n",
       "      <td>...</td>\n",
       "      <td>...</td>\n",
       "    </tr>\n",
       "    <tr>\n",
       "      <th>361583</th>\n",
       "      <td>9</td>\n",
       "      <td>12287275</td>\n",
       "      <td>2021-05-24 19:02:00</td>\n",
       "      <td>2021-05-24</td>\n",
       "    </tr>\n",
       "    <tr>\n",
       "      <th>361587</th>\n",
       "      <td>9</td>\n",
       "      <td>12289663</td>\n",
       "      <td>2021-05-23 14:49:54</td>\n",
       "      <td>2021-05-23</td>\n",
       "    </tr>\n",
       "    <tr>\n",
       "      <th>361590</th>\n",
       "      <td>9</td>\n",
       "      <td>12290050</td>\n",
       "      <td>2021-11-09 16:55:59</td>\n",
       "      <td>2021-11-09</td>\n",
       "    </tr>\n",
       "    <tr>\n",
       "      <th>361656</th>\n",
       "      <td>9</td>\n",
       "      <td>12485485</td>\n",
       "      <td>2021-11-23 12:43:44</td>\n",
       "      <td>2021-11-23</td>\n",
       "    </tr>\n",
       "    <tr>\n",
       "      <th>361680</th>\n",
       "      <td>4</td>\n",
       "      <td>12480780</td>\n",
       "      <td>2022-03-04 16:33:45</td>\n",
       "      <td>2022-03-04</td>\n",
       "    </tr>\n",
       "  </tbody>\n",
       "</table>\n",
       "<p>4003 rows × 4 columns</p>\n",
       "</div>"
      ],
      "text/plain": [
       "        event_id   user_id         happened_at happened_date\n",
       "1119           4  12251151 2021-06-08 14:59:44    2021-06-08\n",
       "1642           4  12391289 2021-06-04 22:12:47    2021-06-04\n",
       "1675           4  12272783 2021-07-08 21:02:59    2021-07-08\n",
       "1679           4  12275418 2022-03-02 13:52:40    2022-03-02\n",
       "1680           4  12275418 2022-03-02 13:52:40    2022-03-02\n",
       "...          ...       ...                 ...           ...\n",
       "361583         9  12287275 2021-05-24 19:02:00    2021-05-24\n",
       "361587         9  12289663 2021-05-23 14:49:54    2021-05-23\n",
       "361590         9  12290050 2021-11-09 16:55:59    2021-11-09\n",
       "361656         9  12485485 2021-11-23 12:43:44    2021-11-23\n",
       "361680         4  12480780 2022-03-04 16:33:45    2022-03-04\n",
       "\n",
       "[4003 rows x 4 columns]"
      ]
     },
     "execution_count": 29,
     "metadata": {},
     "output_type": "execute_result"
    }
   ],
   "source": [
    "event_duplt"
   ]
  },
  {
   "cell_type": "markdown",
   "metadata": {},
   "source": [
    "The rows with the same event_id, user_id and happened_at seem to be the duplicates as user. As in example below user can't answer the call(event_id = 4) two times at the same time:"
   ]
  },
  {
   "cell_type": "code",
   "execution_count": 59,
   "metadata": {},
   "outputs": [
    {
     "data": {
      "text/html": [
       "<div>\n",
       "<style scoped>\n",
       "    .dataframe tbody tr th:only-of-type {\n",
       "        vertical-align: middle;\n",
       "    }\n",
       "\n",
       "    .dataframe tbody tr th {\n",
       "        vertical-align: top;\n",
       "    }\n",
       "\n",
       "    .dataframe thead th {\n",
       "        text-align: right;\n",
       "    }\n",
       "</style>\n",
       "<table border=\"1\" class=\"dataframe\">\n",
       "  <thead>\n",
       "    <tr style=\"text-align: right;\">\n",
       "      <th></th>\n",
       "      <th>event_id</th>\n",
       "      <th>user_id</th>\n",
       "      <th>happened_at</th>\n",
       "      <th>happened_date</th>\n",
       "    </tr>\n",
       "  </thead>\n",
       "  <tbody>\n",
       "    <tr>\n",
       "      <th>1674</th>\n",
       "      <td>4</td>\n",
       "      <td>12272783</td>\n",
       "      <td>2021-07-08 21:02:59</td>\n",
       "      <td>2021-07-08</td>\n",
       "    </tr>\n",
       "    <tr>\n",
       "      <th>1675</th>\n",
       "      <td>4</td>\n",
       "      <td>12272783</td>\n",
       "      <td>2021-07-08 21:02:59</td>\n",
       "      <td>2021-07-08</td>\n",
       "    </tr>\n",
       "  </tbody>\n",
       "</table>\n",
       "</div>"
      ],
      "text/plain": [
       "      event_id   user_id         happened_at happened_date\n",
       "1674         4  12272783 2021-07-08 21:02:59    2021-07-08\n",
       "1675         4  12272783 2021-07-08 21:02:59    2021-07-08"
      ]
     },
     "execution_count": 59,
     "metadata": {},
     "output_type": "execute_result"
    }
   ],
   "source": [
    "#example of possible duplicated values \n",
    "events_new[(events_new['user_id'] == 12272783) & (events_new['event_id'] == 4)]"
   ]
  },
  {
   "cell_type": "code",
   "execution_count": 31,
   "metadata": {},
   "outputs": [
    {
     "name": "stdout",
     "output_type": "stream",
     "text": [
      "Number of records after: 357685\n"
     ]
    }
   ],
   "source": [
    "#deliting duplicates \n",
    "events_new = events_new.drop_duplicates(subset=dupl_cols)\n",
    "\n",
    "print(f'Number of records after: {events_new.shape[0]}')"
   ]
  },
  {
   "cell_type": "code",
   "execution_count": 32,
   "metadata": {},
   "outputs": [
    {
     "name": "stdout",
     "output_type": "stream",
     "text": [
      "Number of records: 69803\n",
      "Number of duplicates: 0\n"
     ]
    }
   ],
   "source": [
    "#checking for duplicates in payment\n",
    " \n",
    "dupl_cols = ['transaction_created_at', 'transaction_id', 'currency', 'user_id', 'amount', 'is_gift']\n",
    "\n",
    "mask = payments.duplicated(subset=dupl_cols)\n",
    "pay_dupl = payments[mask]\n",
    "\n",
    "print(f'Number of records: {payments.shape[0]}')\n",
    "\n",
    "print(f'Number of duplicates: {pay_dupl.shape[0]}')\n"
   ]
  },
  {
   "cell_type": "markdown",
   "metadata": {},
   "source": [
    "Timeframe of the data"
   ]
  },
  {
   "cell_type": "code",
   "execution_count": 33,
   "metadata": {},
   "outputs": [
    {
     "name": "stdout",
     "output_type": "stream",
     "text": [
      "2018-05-28\n",
      "2022-03-14\n"
     ]
    }
   ],
   "source": [
    "print(events_new['happened_date'].min())\n",
    "print(events_new['happened_date'].max())"
   ]
  },
  {
   "cell_type": "markdown",
   "metadata": {},
   "source": [
    "Number of unique users in df:"
   ]
  },
  {
   "cell_type": "code",
   "execution_count": 34,
   "metadata": {},
   "outputs": [
    {
     "data": {
      "text/plain": [
       "84306"
      ]
     },
     "execution_count": 34,
     "metadata": {},
     "output_type": "execute_result"
    }
   ],
   "source": [
    "events_new['user_id'].nunique()"
   ]
  },
  {
   "cell_type": "markdown",
   "metadata": {},
   "source": [
    "Number of unique students who made a transaction at least once:"
   ]
  },
  {
   "cell_type": "code",
   "execution_count": 35,
   "metadata": {},
   "outputs": [
    {
     "data": {
      "text/plain": [
       "18236"
      ]
     },
     "execution_count": 35,
     "metadata": {},
     "output_type": "execute_result"
    }
   ],
   "source": [
    "payments['user_id'].nunique()"
   ]
  },
  {
   "cell_type": "markdown",
   "metadata": {},
   "source": [
    "Type of currencies: "
   ]
  },
  {
   "cell_type": "code",
   "execution_count": 37,
   "metadata": {},
   "outputs": [
    {
     "name": "stdout",
     "output_type": "stream",
     "text": [
      "['RUB' 'EUR' 'GBP' 'PLN' 'USD' 'JPY' 'CLP' 'KRW' 'PEN' 'UAH' 'MXN' 'UYU']\n",
      "Number of currencies: 12\n"
     ]
    }
   ],
   "source": [
    "print(payments['currency'].unique())\n",
    "print(f'Number of currencies: {len(payments[\"currency\"].unique())}')"
   ]
  },
  {
   "cell_type": "markdown",
   "metadata": {},
   "source": [
    "Checking the CJM for all unique customers:"
   ]
  },
  {
   "cell_type": "code",
   "execution_count": 38,
   "metadata": {},
   "outputs": [
    {
     "data": {
      "text/html": [
       "<div>\n",
       "<style scoped>\n",
       "    .dataframe tbody tr th:only-of-type {\n",
       "        vertical-align: middle;\n",
       "    }\n",
       "\n",
       "    .dataframe tbody tr th {\n",
       "        vertical-align: top;\n",
       "    }\n",
       "\n",
       "    .dataframe thead th {\n",
       "        text-align: right;\n",
       "    }\n",
       "</style>\n",
       "<table border=\"1\" class=\"dataframe\">\n",
       "  <thead>\n",
       "    <tr style=\"text-align: right;\">\n",
       "      <th></th>\n",
       "      <th>event_id</th>\n",
       "      <th>description</th>\n",
       "      <th>user_id</th>\n",
       "    </tr>\n",
       "  </thead>\n",
       "  <tbody>\n",
       "    <tr>\n",
       "      <th>0</th>\n",
       "      <td>3</td>\n",
       "      <td>Creating an application</td>\n",
       "      <td>84116</td>\n",
       "    </tr>\n",
       "    <tr>\n",
       "      <th>3</th>\n",
       "      <td>8</td>\n",
       "      <td>Assigned task to call 1L</td>\n",
       "      <td>51034</td>\n",
       "    </tr>\n",
       "    <tr>\n",
       "      <th>1</th>\n",
       "      <td>2</td>\n",
       "      <td>Assigning an IL</td>\n",
       "      <td>46456</td>\n",
       "    </tr>\n",
       "    <tr>\n",
       "      <th>5</th>\n",
       "      <td>4</td>\n",
       "      <td>S. answered 1L operator call</td>\n",
       "      <td>44990</td>\n",
       "    </tr>\n",
       "    <tr>\n",
       "      <th>6</th>\n",
       "      <td>6</td>\n",
       "      <td>DL to IL</td>\n",
       "      <td>22981</td>\n",
       "    </tr>\n",
       "    <tr>\n",
       "      <th>2</th>\n",
       "      <td>7</td>\n",
       "      <td>Successful IL</td>\n",
       "      <td>19770</td>\n",
       "    </tr>\n",
       "    <tr>\n",
       "      <th>8</th>\n",
       "      <td>9</td>\n",
       "      <td>Call 2L</td>\n",
       "      <td>14785</td>\n",
       "    </tr>\n",
       "    <tr>\n",
       "      <th>4</th>\n",
       "      <td>12</td>\n",
       "      <td>Assigned task to call 2L</td>\n",
       "      <td>14560</td>\n",
       "    </tr>\n",
       "    <tr>\n",
       "      <th>10</th>\n",
       "      <td>5</td>\n",
       "      <td>WA message sent</td>\n",
       "      <td>695</td>\n",
       "    </tr>\n",
       "    <tr>\n",
       "      <th>9</th>\n",
       "      <td>10</td>\n",
       "      <td>Transfer to DL (DL started)</td>\n",
       "      <td>396</td>\n",
       "    </tr>\n",
       "    <tr>\n",
       "      <th>7</th>\n",
       "      <td>11</td>\n",
       "      <td>DL completed</td>\n",
       "      <td>225</td>\n",
       "    </tr>\n",
       "    <tr>\n",
       "      <th>11</th>\n",
       "      <td>13</td>\n",
       "      <td>S. responded to WA message</td>\n",
       "      <td>29</td>\n",
       "    </tr>\n",
       "  </tbody>\n",
       "</table>\n",
       "</div>"
      ],
      "text/plain": [
       "    event_id                   description  user_id\n",
       "0          3       Creating an application    84116\n",
       "3          8      Assigned task to call 1L    51034\n",
       "1          2               Assigning an IL    46456\n",
       "5          4  S. answered 1L operator call    44990\n",
       "6          6                      DL to IL    22981\n",
       "2          7                 Successful IL    19770\n",
       "8          9                       Call 2L    14785\n",
       "4         12      Assigned task to call 2L    14560\n",
       "10         5               WA message sent      695\n",
       "9         10   Transfer to DL (DL started)      396\n",
       "7         11                  DL completed      225\n",
       "11        13    S. responded to WA message       29"
      ]
     },
     "execution_count": 38,
     "metadata": {},
     "output_type": "execute_result"
    }
   ],
   "source": [
    "#count of all unique events \n",
    "event_desc = events_new.groupby(['event_id'], as_index=False).nunique().loc[:,['event_id','user_id']]\n",
    "\n",
    "#getting desctiption for events and join it with count of these events \n",
    "event_dic_extr = events_dict.loc[:,['event_id','description']]\n",
    "event_desc_unique = pd.merge(event_dic_extr, event_desc, on = 'event_id', how='left').sort_values('user_id',ascending=False)\n",
    "\n",
    "event_desc_unique"
   ]
  },
  {
   "cell_type": "markdown",
   "metadata": {},
   "source": [
    "The obtained data coincide quite well with the information about a typical sales funnel. Creating an application(3) --> S. answered the call (4) --> Successful IL (7) or DL (11) "
   ]
  },
  {
   "cell_type": "markdown",
   "metadata": {},
   "source": [
    "## Metrics -----------------"
   ]
  },
  {
   "cell_type": "code",
   "execution_count": 39,
   "metadata": {},
   "outputs": [],
   "source": [
    "#functiong for formating graphs\n",
    "def to_percent(y, _):\n",
    "    return f'{int(y)}%'\n",
    "\n",
    "def format_thousands(x,pos):\n",
    "    return f'{x/1000:.0f}'"
   ]
  },
  {
   "cell_type": "markdown",
   "metadata": {},
   "source": [
    "The first metric that can be calculated is CCR or customer conversion rate. Let's calculate it on daily basis: "
   ]
  },
  {
   "cell_type": "code",
   "execution_count": 41,
   "metadata": {},
   "outputs": [
    {
     "data": {
      "image/png": "[encoded data removed]",
      "text/plain": [
       "<Figure size 1000x600 with 1 Axes>"
      ]
     },
     "metadata": {},
     "output_type": "display_data"
    }
   ],
   "source": [
    "#coding wanted events \n",
    "app = [3] #creating application \n",
    "call = [4,13] #responded to call or WA message \n",
    "\n",
    "sns.set_theme(style=\"whitegrid\", palette=\"pastel\")\n",
    "\n",
    "events_new.loc[:, 'is_app'] = events_new['event_id'].apply(lambda x: 1 if x in app else 0)\n",
    "events_new.loc[:, 'is_call'] = events_new['event_id'].apply(lambda x: 1 if x in call else 0)\n",
    "\n",
    "events_daily = events_new.drop(['happened_at','event_id'],axis = 1).groupby(['happened_date'],as_index=False).sum().sort_values('happened_date')\n",
    "\n",
    "events_daily['CCR_app(%)'] = np.where(events_daily['is_app'] == 0, 0, round(events_daily['is_call']/events_daily['is_app']*100,2))\n",
    "\n",
    "events_daily = events_daily[events_daily['happened_date'] >= dt.date(2021,6,1)]\n",
    "\n",
    "plt.figure(figsize=(10, 6))\n",
    "sns.scatterplot(x='happened_date', y='CCR_app(%)', data=events_daily)\n",
    "plt.xlabel('')\n",
    "plt.ylabel('Daily CCR applications(%)')\n",
    "plt.title('')\n",
    "plt.show()"
   ]
  },
  {
   "cell_type": "markdown",
   "metadata": {},
   "source": [
    "* It seems like it's not the best metric as it takes longer time for each step in CJM (that's why there are many figures bigger than 100%). That's why better metric will be cumulative convertion rate\n",
    "\n",
    "* The second metric will be active daily users or DUA\n",
    "\n",
    "* The third is daily revenue (in Russian rubbles)"
   ]
  },
  {
   "cell_type": "markdown",
   "metadata": {},
   "source": [
    "## Calculating Metrcis ------------------"
   ]
  },
  {
   "cell_type": "markdown",
   "metadata": {},
   "source": [
    "First step is creating df with date and each metric for this day (ideally is to have database somewhere else and add a new line there every day) but for the this project it will be enough\n"
   ]
  },
  {
   "cell_type": "code",
   "execution_count": 60,
   "metadata": {},
   "outputs": [],
   "source": [
    "def metrcics(data_e, data_p, min, max):\n",
    "    \n",
    "    diff = (max - min).days\n",
    "    \n",
    "     #creating dataframe\n",
    "    df_metrics = pd.DataFrame()\n",
    "    \n",
    "    for i in range(0,diff+1):\n",
    "        \n",
    "        rep_date = min + dt.timedelta(days=i)\n",
    "\n",
    "        #filtering the event df \n",
    "        event_filterd = data_e[data_e['happened_date']<=rep_date]\n",
    "        #unqiue count of users by event\n",
    "        group_ev = event_filterd.groupby(['event_id'], as_index=False).nunique().loc[:,['event_id','user_id']]\n",
    "        \n",
    "        ##filtering the payment df\n",
    "        filtered_pay = data_p[data_p['transaction_date'] <= rep_date]\n",
    "        filtered_pay_RUB_filterd = data_p[(data_p['transaction_date'] == rep_date) & (data_p['currency'] == 'RUB')]\n",
    "        \n",
    "        new_row = {'happened_date':rep_date,\n",
    "                   'app_cum' : group_ev['user_id'].values[1],  #value for unique application\n",
    "                   'call_cum' :group_ev['user_id'].values[2] + group_ev['user_id'].values[11],  #user responded (2 - call or 11 - whats up)\n",
    "                   'intro_cum': group_ev['user_id'].values[5] + group_ev['user_id'].values[9],  #successful introductory or demonstration lesson \n",
    "                   'pay_cum' : filtered_pay['user_id'].nunique(), # unique number of users who paid\n",
    "                   'daily_revenue': filtered_pay_RUB_filterd['amount'].sum()\n",
    "                   }\n",
    "        \n",
    "        df_metrics = pd.concat([df_metrics, pd.DataFrame([new_row])], ignore_index = True)\n",
    "    \n",
    "        #calculating the 1st metric: \n",
    "        \n",
    "        df_metrics['CCR_app(%)'] = round(df_metrics['call_cum']/df_metrics['app_cum']*100,2) \n",
    "        df_metrics['CCR_call(%)'] = round(df_metrics['intro_cum']/df_metrics['call_cum']*100,2) \n",
    "        df_metrics['CCR_intro(%)'] = round(df_metrics['pay_cum']/df_metrics['intro_cum']*100,2)\n",
    "        \n",
    "        #number of users who filled the application \n",
    "        df_metrics['DAU_request'] = df_metrics['app_cum'] - df_metrics['app_cum'].shift()\n",
    "        df_metrics['Daily_revenue_VarRel(%)'] = round((df_metrics['daily_revenue'] - df_metrics['daily_revenue'].shift())/df_metrics['daily_revenue'].shift()*100,2)\n",
    "        \n",
    "        #saving data to seperate folder\n",
    "        output_folder = 'Data output'  \n",
    "        output_file_name = 'METRICS.csv'\n",
    "        output_file_path = os.path.join(output_folder, output_file_name)\n",
    "        \n",
    "        df_metrics.to_csv(output_file_path, index=False)\n",
    "\n",
    "    return(df_metrics)"
   ]
  },
  {
   "cell_type": "markdown",
   "metadata": {},
   "source": [
    "For this particula example let's create small sample of the df with time interval of approximately 2 weeks: "
   ]
  },
  {
   "cell_type": "code",
   "execution_count": 61,
   "metadata": {},
   "outputs": [],
   "source": [
    "min = dt.date(2022, 3, 1)\n",
    "max = dt.date(2022, 3, 13)\n",
    "\n",
    "metrics_df = metrcics(events_new,payments, min,max)"
   ]
  },
  {
   "cell_type": "code",
   "execution_count": 46,
   "metadata": {},
   "outputs": [
    {
     "data": {
      "text/html": [
       "<div>\n",
       "<style scoped>\n",
       "    .dataframe tbody tr th:only-of-type {\n",
       "        vertical-align: middle;\n",
       "    }\n",
       "\n",
       "    .dataframe tbody tr th {\n",
       "        vertical-align: top;\n",
       "    }\n",
       "\n",
       "    .dataframe thead th {\n",
       "        text-align: right;\n",
       "    }\n",
       "</style>\n",
       "<table border=\"1\" class=\"dataframe\">\n",
       "  <thead>\n",
       "    <tr style=\"text-align: right;\">\n",
       "      <th></th>\n",
       "      <th>happened_date</th>\n",
       "      <th>app_cum</th>\n",
       "      <th>call_cum</th>\n",
       "      <th>intro_cum</th>\n",
       "      <th>pay_cum</th>\n",
       "      <th>daily_revenue</th>\n",
       "      <th>CCR_app(%)</th>\n",
       "      <th>CCR_call(%)</th>\n",
       "      <th>CCR_intro(%)</th>\n",
       "      <th>DAU_request</th>\n",
       "      <th>Daily_revenue_VarRel(%)</th>\n",
       "    </tr>\n",
       "  </thead>\n",
       "  <tbody>\n",
       "    <tr>\n",
       "      <th>0</th>\n",
       "      <td>2022-03-01</td>\n",
       "      <td>84059</td>\n",
       "      <td>44937</td>\n",
       "      <td>19970</td>\n",
       "      <td>18184</td>\n",
       "      <td>1393947.0</td>\n",
       "      <td>53.46</td>\n",
       "      <td>44.44</td>\n",
       "      <td>91.06</td>\n",
       "      <td>NaN</td>\n",
       "      <td>NaN</td>\n",
       "    </tr>\n",
       "    <tr>\n",
       "      <th>1</th>\n",
       "      <td>2022-03-02</td>\n",
       "      <td>84063</td>\n",
       "      <td>44947</td>\n",
       "      <td>19974</td>\n",
       "      <td>18188</td>\n",
       "      <td>1108858.0</td>\n",
       "      <td>53.47</td>\n",
       "      <td>44.44</td>\n",
       "      <td>91.06</td>\n",
       "      <td>4.0</td>\n",
       "      <td>-20.45</td>\n",
       "    </tr>\n",
       "    <tr>\n",
       "      <th>2</th>\n",
       "      <td>2022-03-03</td>\n",
       "      <td>84071</td>\n",
       "      <td>44956</td>\n",
       "      <td>19976</td>\n",
       "      <td>18192</td>\n",
       "      <td>1464322.0</td>\n",
       "      <td>53.47</td>\n",
       "      <td>44.43</td>\n",
       "      <td>91.07</td>\n",
       "      <td>8.0</td>\n",
       "      <td>32.06</td>\n",
       "    </tr>\n",
       "    <tr>\n",
       "      <th>3</th>\n",
       "      <td>2022-03-04</td>\n",
       "      <td>84075</td>\n",
       "      <td>44962</td>\n",
       "      <td>19977</td>\n",
       "      <td>18193</td>\n",
       "      <td>1745068.0</td>\n",
       "      <td>53.48</td>\n",
       "      <td>44.43</td>\n",
       "      <td>91.07</td>\n",
       "      <td>4.0</td>\n",
       "      <td>19.17</td>\n",
       "    </tr>\n",
       "    <tr>\n",
       "      <th>4</th>\n",
       "      <td>2022-03-05</td>\n",
       "      <td>84082</td>\n",
       "      <td>44967</td>\n",
       "      <td>19979</td>\n",
       "      <td>18195</td>\n",
       "      <td>887964.0</td>\n",
       "      <td>53.48</td>\n",
       "      <td>44.43</td>\n",
       "      <td>91.07</td>\n",
       "      <td>7.0</td>\n",
       "      <td>-49.12</td>\n",
       "    </tr>\n",
       "    <tr>\n",
       "      <th>5</th>\n",
       "      <td>2022-03-06</td>\n",
       "      <td>84084</td>\n",
       "      <td>44972</td>\n",
       "      <td>19980</td>\n",
       "      <td>18197</td>\n",
       "      <td>841438.0</td>\n",
       "      <td>53.48</td>\n",
       "      <td>44.43</td>\n",
       "      <td>91.08</td>\n",
       "      <td>2.0</td>\n",
       "      <td>-5.24</td>\n",
       "    </tr>\n",
       "    <tr>\n",
       "      <th>6</th>\n",
       "      <td>2022-03-07</td>\n",
       "      <td>84089</td>\n",
       "      <td>44980</td>\n",
       "      <td>19984</td>\n",
       "      <td>18200</td>\n",
       "      <td>1508456.0</td>\n",
       "      <td>53.49</td>\n",
       "      <td>44.43</td>\n",
       "      <td>91.07</td>\n",
       "      <td>5.0</td>\n",
       "      <td>79.27</td>\n",
       "    </tr>\n",
       "    <tr>\n",
       "      <th>7</th>\n",
       "      <td>2022-03-08</td>\n",
       "      <td>84092</td>\n",
       "      <td>44986</td>\n",
       "      <td>19985</td>\n",
       "      <td>18205</td>\n",
       "      <td>1129025.0</td>\n",
       "      <td>53.50</td>\n",
       "      <td>44.42</td>\n",
       "      <td>91.09</td>\n",
       "      <td>3.0</td>\n",
       "      <td>-25.15</td>\n",
       "    </tr>\n",
       "    <tr>\n",
       "      <th>8</th>\n",
       "      <td>2022-03-09</td>\n",
       "      <td>84097</td>\n",
       "      <td>44992</td>\n",
       "      <td>19989</td>\n",
       "      <td>18210</td>\n",
       "      <td>3212223.0</td>\n",
       "      <td>53.50</td>\n",
       "      <td>44.43</td>\n",
       "      <td>91.10</td>\n",
       "      <td>5.0</td>\n",
       "      <td>184.51</td>\n",
       "    </tr>\n",
       "    <tr>\n",
       "      <th>9</th>\n",
       "      <td>2022-03-10</td>\n",
       "      <td>84102</td>\n",
       "      <td>45008</td>\n",
       "      <td>19990</td>\n",
       "      <td>18215</td>\n",
       "      <td>3187560.0</td>\n",
       "      <td>53.52</td>\n",
       "      <td>44.41</td>\n",
       "      <td>91.12</td>\n",
       "      <td>5.0</td>\n",
       "      <td>-0.77</td>\n",
       "    </tr>\n",
       "    <tr>\n",
       "      <th>10</th>\n",
       "      <td>2022-03-11</td>\n",
       "      <td>84106</td>\n",
       "      <td>45013</td>\n",
       "      <td>19993</td>\n",
       "      <td>18219</td>\n",
       "      <td>1840455.0</td>\n",
       "      <td>53.52</td>\n",
       "      <td>44.42</td>\n",
       "      <td>91.13</td>\n",
       "      <td>4.0</td>\n",
       "      <td>-42.26</td>\n",
       "    </tr>\n",
       "    <tr>\n",
       "      <th>11</th>\n",
       "      <td>2022-03-12</td>\n",
       "      <td>84110</td>\n",
       "      <td>45017</td>\n",
       "      <td>19994</td>\n",
       "      <td>18223</td>\n",
       "      <td>1796905.0</td>\n",
       "      <td>53.52</td>\n",
       "      <td>44.41</td>\n",
       "      <td>91.14</td>\n",
       "      <td>4.0</td>\n",
       "      <td>-2.37</td>\n",
       "    </tr>\n",
       "    <tr>\n",
       "      <th>12</th>\n",
       "      <td>2022-03-13</td>\n",
       "      <td>84116</td>\n",
       "      <td>45019</td>\n",
       "      <td>19994</td>\n",
       "      <td>18224</td>\n",
       "      <td>1965796.0</td>\n",
       "      <td>53.52</td>\n",
       "      <td>44.41</td>\n",
       "      <td>91.15</td>\n",
       "      <td>6.0</td>\n",
       "      <td>9.40</td>\n",
       "    </tr>\n",
       "  </tbody>\n",
       "</table>\n",
       "</div>"
      ],
      "text/plain": [
       "   happened_date  app_cum  call_cum  intro_cum  pay_cum  daily_revenue  \\\n",
       "0     2022-03-01    84059     44937      19970    18184      1393947.0   \n",
       "1     2022-03-02    84063     44947      19974    18188      1108858.0   \n",
       "2     2022-03-03    84071     44956      19976    18192      1464322.0   \n",
       "3     2022-03-04    84075     44962      19977    18193      1745068.0   \n",
       "4     2022-03-05    84082     44967      19979    18195       887964.0   \n",
       "5     2022-03-06    84084     44972      19980    18197       841438.0   \n",
       "6     2022-03-07    84089     44980      19984    18200      1508456.0   \n",
       "7     2022-03-08    84092     44986      19985    18205      1129025.0   \n",
       "8     2022-03-09    84097     44992      19989    18210      3212223.0   \n",
       "9     2022-03-10    84102     45008      19990    18215      3187560.0   \n",
       "10    2022-03-11    84106     45013      19993    18219      1840455.0   \n",
       "11    2022-03-12    84110     45017      19994    18223      1796905.0   \n",
       "12    2022-03-13    84116     45019      19994    18224      1965796.0   \n",
       "\n",
       "    CCR_app(%)  CCR_call(%)  CCR_intro(%)  DAU_request  \\\n",
       "0        53.46        44.44         91.06          NaN   \n",
       "1        53.47        44.44         91.06          4.0   \n",
       "2        53.47        44.43         91.07          8.0   \n",
       "3        53.48        44.43         91.07          4.0   \n",
       "4        53.48        44.43         91.07          7.0   \n",
       "5        53.48        44.43         91.08          2.0   \n",
       "6        53.49        44.43         91.07          5.0   \n",
       "7        53.50        44.42         91.09          3.0   \n",
       "8        53.50        44.43         91.10          5.0   \n",
       "9        53.52        44.41         91.12          5.0   \n",
       "10       53.52        44.42         91.13          4.0   \n",
       "11       53.52        44.41         91.14          4.0   \n",
       "12       53.52        44.41         91.15          6.0   \n",
       "\n",
       "    Daily_revenue_VarRel(%)  \n",
       "0                       NaN  \n",
       "1                    -20.45  \n",
       "2                     32.06  \n",
       "3                     19.17  \n",
       "4                    -49.12  \n",
       "5                     -5.24  \n",
       "6                     79.27  \n",
       "7                    -25.15  \n",
       "8                    184.51  \n",
       "9                     -0.77  \n",
       "10                   -42.26  \n",
       "11                    -2.37  \n",
       "12                     9.40  "
      ]
     },
     "execution_count": 46,
     "metadata": {},
     "output_type": "execute_result"
    }
   ],
   "source": [
    "metrics_df"
   ]
  },
  {
   "cell_type": "markdown",
   "metadata": {},
   "source": [
    "Graphs:"
   ]
  },
  {
   "cell_type": "code",
   "execution_count": 62,
   "metadata": {},
   "outputs": [
    {
     "data": {
      "image/png": "[encoded data removed]",
      "text/plain": [
       "<Figure size 1400x800 with 1 Axes>"
      ]
     },
     "metadata": {},
     "output_type": "display_data"
    }
   ],
   "source": [
    "graph_metric1(metrics_df)"
   ]
  },
  {
   "cell_type": "code",
   "execution_count": 63,
   "metadata": {},
   "outputs": [
    {
     "data": {
      "image/png": "[encoded data removed]",
      "text/plain": [
       "<Figure size 1000x800 with 1 Axes>"
      ]
     },
     "metadata": {},
     "output_type": "display_data"
    }
   ],
   "source": [
    "graph_metric2(metrics_df)"
   ]
  },
  {
   "cell_type": "code",
   "execution_count": 64,
   "metadata": {},
   "outputs": [
    {
     "data": {
      "image/png": "[encoded data removed]",
      "text/plain": [
       "<Figure size 1000x800 with 1 Axes>"
      ]
     },
     "metadata": {},
     "output_type": "display_data"
    }
   ],
   "source": [
    "graph_metric3(metrics_df)"
   ]
  }
 ],
 "metadata": {
  "kernelspec": {
   "display_name": "minimal_ds",
   "language": "python",
   "name": "python3"
  },
  "language_info": {
   "codemirror_mode": {
    "name": "ipython",
    "version": 3
   },
   "file_extension": ".py",
   "mimetype": "text/x-python",
   "name": "python",
   "nbconvert_exporter": "python",
   "pygments_lexer": "ipython3",
   "version": "3.11.5"
  },
  "orig_nbformat": 4
 },
 "nbformat": 4,
 "nbformat_minor": 2
}
